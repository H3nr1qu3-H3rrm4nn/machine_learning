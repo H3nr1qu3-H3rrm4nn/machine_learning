{
 "cells": [
  {
   "cell_type": "markdown",
   "metadata": {},
   "source": [
    "# <center>Curso de Modelagem de Dados para IA - PARTE 9</center>\n",
    "\n",
    "<img src=\"image.jpg\" alt=\"Drawing\" style=\"width: 300px;\"/>\n",
    "\n",
    "\n",
    "## Operação de Agregação sobre os Dados\n",
    "Às vezes, os dados que se deseja analisar chegam em um formato que não é o ideal para as necessidades ou contêm campos de dados adicionais que podem não ser interessantes. Nesse caso, convém pré-processar os dados para obtê-los em um formato adequado para análise posterior. Ilustramos alguns desses tipos de problemas aqui, no contexto dos dados do Twitter. Conforme observado anteriormente, os arquivos de dados do Twitter estão disponíveis por meio de links de download separados."
   ]
  },
  {
   "cell_type": "markdown",
   "metadata": {},
   "source": [
    "### Operações de agregação\n",
    "Além de definir objetos de array multidimensionais, o NumPy também suporta operações de agregação compactas e eficientes para operar em todos os dados em um array. Essa mesma funcionalidade foi estendida ao Pandas, para permitir operações agregadas em dataframes. Isso inclui operações matemáticas como <span style=\"font-family: 'Courier'\">sum, mean, std, min, max, abs</span> e <span style=\"font-family: 'Courier'\">round</span>, entre outras. Muitas dessas funções podem atuar não apenas em um array ou dataframe inteiro, mas também em um eixo específico. (Esta é uma das razões pelas quais é importante conhecer a anatomia de arrays e dataframes.) Daremos alguns exemplos simples aqui. Também veremos a seguir o uso de agregações em conjunto com operações de agrupamento.\n",
    "\n",
    "Com o dataframe de rebatidas de beisebol, podemos estar interessados no número total de diferentes tipos de resultados de rebatidas ao longo de toda a história do beisebol da MLB. Podemos calcular isso facilmente somando todas as linhas (eixo = 0) do dataframe de rebatidas:"
   ]
  },
  {
   "cell_type": "code",
   "execution_count": 1,
   "metadata": {},
   "outputs": [],
   "source": [
    "import glob, os\n",
    "import pandas as pd"
   ]
  },
  {
   "cell_type": "code",
   "execution_count": 2,
   "metadata": {},
   "outputs": [],
   "source": [
    "def read_all_databank_core_csv(directory):\n",
    "    \"\"\"\n",
    "    read all csv files in the specified baseball databank directory and\n",
    "    populate a dictionary storing each of the tables keyed to its name\n",
    "    \"\"\"\n",
    "    dfs = {}\n",
    "    files = glob.glob('{}/*.csv'.format(directory))\n",
    "    for f in files:\n",
    "        d, name = os.path.split(f)\n",
    "        table = os.path.splitext(name)[0]\n",
    "        df = pd.read_csv(f)\n",
    "        dfs[table] = df\n",
    "    return dfs\n",
    "\n",
    "bbdfs = read_all_databank_core_csv('data/baseballdatabank/core')"
   ]
  },
  {
   "cell_type": "code",
   "execution_count": 3,
   "metadata": {},
   "outputs": [],
   "source": [
    "# extract a few for further processing\n",
    "batting = bbdfs['Batting']\n",
    "pitching = bbdfs['Pitching']\n",
    "teams = bbdfs['Teams']"
   ]
  },
  {
   "cell_type": "code",
   "execution_count": 8,
   "metadata": {},
   "outputs": [
    {
     "data": {
      "text/plain": [
       "playerID    abercda01addybo01allisar01allisdo01ansonca01ar...\n",
       "yearID                                              211264730\n",
       "stint                                                  115938\n",
       "teamID      TRORC1CL1WS3RC1FW1RC1BS1FW1BS1CL1CL1WS3TROPH1T...\n",
       "G                                                     5493285\n",
       "AB                                                   15088892\n",
       "R                                                     2002457\n",
       "H                                                     3944241\n",
       "2B                                                     671889\n",
       "3B                                                     135427\n",
       "HR                                                     307761\n",
       "RBI                                                 1805938.0\n",
       "SB                                                   309734.0\n",
       "CS                                                   100075.0\n",
       "BB                                                    1391075\n",
       "SO                                                  2177919.0\n",
       "IBB                                                   75921.0\n",
       "HBP                                                  111294.0\n",
       "SH                                                   225561.0\n",
       "SF                                                    73948.0\n",
       "GIDP                                                 239930.0\n",
       "dtype: object"
      ]
     },
     "execution_count": 8,
     "metadata": {},
     "output_type": "execute_result"
    }
   ],
   "source": [
    "batting.sum(axis=0)"
   ]
  },
  {
   "cell_type": "markdown",
   "metadata": {},
   "source": [
    "Parte da saída é um pouco sem sentido (por exemplo, somar strings de texto). Se quisermos restringir a soma apenas a dados numéricos, podemos incluir uma opção adicional ao método soma: <span style=\"font-family: 'Courier'\">batting.sum(axis=1, numeric_only=True)</span>, embora, mesmo assim, alguns dados ainda não façam sentido (por exemplo, soma de anos).\n",
    "\n",
    "Da mesma forma, podemos estar interessados em quantos jogos por temporada os jogadores jogaram em média. O código a seguir retornará a média e o desvio padrão do número anual de jogos ('G') por jogador:"
   ]
  },
  {
   "cell_type": "code",
   "execution_count": 5,
   "metadata": {},
   "outputs": [],
   "source": [
    "games_mean = batting['G'].mean()\n",
    "games_std = batting['G'].std()"
   ]
  },
  {
   "cell_type": "code",
   "execution_count": 7,
   "metadata": {},
   "outputs": [
    {
     "name": "stdout",
     "output_type": "stream",
     "text": [
      "51.134097869290414\n",
      "47.01589575697166\n"
     ]
    }
   ],
   "source": [
    "print(games_mean)\n",
    "print(games_std)"
   ]
  },
  {
   "cell_type": "code",
   "execution_count": null,
   "metadata": {},
   "outputs": [],
   "source": []
  }
 ],
 "metadata": {
  "kernelspec": {
   "display_name": "Python 3",
   "language": "python",
   "name": "python3"
  },
  "language_info": {
   "codemirror_mode": {
    "name": "ipython",
    "version": 3
   },
   "file_extension": ".py",
   "mimetype": "text/x-python",
   "name": "python",
   "nbconvert_exporter": "python",
   "pygments_lexer": "ipython3",
   "version": "3.8.10"
  }
 },
 "nbformat": 4,
 "nbformat_minor": 4
}

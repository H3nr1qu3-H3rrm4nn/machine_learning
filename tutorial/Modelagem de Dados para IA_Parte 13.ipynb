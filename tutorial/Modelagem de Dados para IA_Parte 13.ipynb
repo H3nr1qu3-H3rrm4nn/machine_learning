{
 "cells": [
  {
   "cell_type": "markdown",
   "metadata": {},
   "source": [
    "# <center>Curso de Modelagem de Dados para IA - PARTE 13</center>\n",
    "\n",
    "<img src=\"img/image.jpg\" alt=\"Drawing\" style=\"width: 300px;\"/>\n",
    "\n",
    "\n",
    "## Visualização de dados\n",
    "A **visualização de dados é um componente-chave no processo de ciência de dados**, desde os estágios iniciais da exploração de dados até o processo final de comunicar os resultados complicados aos interessados. A compreensão dos padrões nos dados é muitas vezes facilitada pelas capacidades cognitivas humanas de reconhecimento de padrões, e os resumos gráficos de um conjunto de dados grande e complexo podem sugerir direções específicas para análises quantitativas posteriores. É claro que existe um velho ditado que diz \"ver para crer\", mas em alguns casos com conjuntos de dados complexos, às vezes é o caso de \"ver para entender\", em que visualizações de dados úteis podem nos ajudar a entender os dados em sua totalidade (pelo menos em sob uma perspectiva bem ampla).\n",
    "\n",
    "A visualização de dados também está intimamente ligada à visualização de informações, muitas vezez referenciada como 'infoviz'. A visualização de dados tende a se referir a formas mais tradicionais de representação, como gráficos estáticos, enquanto a visualização de informações se destina a fornecer um mergulho mais profundo e didático nos dados, geralmente usando gráficos interativos e painéis em tempo real. Obviamente, esses tipos de atividades estão em um espectro, e as ferramentas estão cada vez mais disponíveis para fornecer um maior grau de interatividade e capacidade exploratória dentro de pipelines de computação científica. A esse respeito, a sintaxe expressiva do Python e suas bibliotecas para ciência de dados também facilitam a exploração interativa de dados, permitindo que os usuários selecionem e manipulem conjuntos de dados de várias maneiras para descobrir relacionamentos significativos nos dados.\n",
    "\n",
    "Neste tutorial, primeiro fornecemos uma breve visão geral de alguns conceitos de visualização e, em seguida, destacamos algumas bibliotecas Python importantes para visualização de dados: ***Matplotlib***, a base para geração de gráficos em Python, que fornece um conjunto de operações de visualização de baixo nível, mas poderoso; ***Seaborn***, uma biblioteca voltada para aplicativos de ciência de dados com uma API de nível superior, em cima do Matplotlib e integrando-se bem com o Pandas; e ***Bokeh***, uma biblioteca que suporta visualizações interativas baseadas na *web*, incluindo panorâmica/zoom, seleção de objetos, tags de metadados, retornos de chamada definidos pelo usuário e muito mais. Abordaremos *Matplotlib* e *Seaborn* na primeira parte deste tutorial sobre visualização, enfatizando seu papel em fornecer insights rápidos sobre a estrutura de conjuntos de dados, e discutiremos Bokeh na parte subsequente, para destacar seu papel em visualizações mais avançadas.\n",
    "\n",
    "A plotagem com *Matplotlib* pode ser realizada de várias formas. O mais direto e amplamente utilizado é através do módulo <span style=\"font-family: 'Courier'\">matplotlib.pyplot</span>, que é convencionalmente importado com um nome abreviado: <span style=\"font-family: 'Courier'\">import matplotlib.pyplot as plt</span>. O módulo <span style=\"font-family: 'Courier'\">plt</span> contém muitas funções para gerar diferentes tipos de gráficos e personalizar seu layout e aparência. Essas funções podem receber dados armazenados em várias estruturas de dados diferentes, como listas Python, matrizes NumPy e dataframes Pandas. Além disso, Pandas define métodos em objetos Dataframe e Series para plotagem, que usam as funções matplotlib subjacentes em <span style=\"font-family: 'Courier'\">plt</span>. Seaborn está mais focado em trabalhar com dados em Dataframes, mas usa os mesmos elementos primitivos matplotlib abaixo. Assim, pode-se usar a API Seaborn de nível superior para gerar gráficos de interesse em conjunto com a API Matplotlib de nível inferior para personalizar esses gráficos conforme desejado."
   ]
  },
  {
   "cell_type": "markdown",
   "metadata": {},
   "source": [
    "## Visão Geral sobre Visualização\n",
    "Vamos revisar alguns dos princípios básicos de visualização de dados pertinentes a este tutorial, observando que uma lição profunda sobre princípios e práticas de visualização está além do escopo deste tutorial.\n",
    "\n",
    "### Breve revisão de alguns tipos de visualizações comumente usados\n",
    "#### Gráfico de barras\n",
    "<img src=\"img/barchart.png\" alt=\"Drawing\" style=\"width: 300px;\"/>\n",
    "\n",
    "Os gráficos de barras são uma das ferramentas de visualização de dados mais usadas devido à sua intuitividade, especialmente quando várias variáveis são representadas. No entanto, muitas variáveis ou muitos dados podem tornar os gráficos de barras inúteis. Neste tutorial, usamos gráficos de barras brevemente para visualizar as estatísticas de beisebol."
   ]
  },
  {
   "cell_type": "markdown",
   "metadata": {},
   "source": [
    "#### Gráfico de barras\n",
    "<img src=\"img/time_series.png\" alt=\"Drawing\" style=\"width: 500px;\"/>\n",
    "\n",
    "As séries temporais são outra ferramenta de visualização de dados comumente usada. Os dados que consistem em alguma variável dependente do tempo são plotados como uma linha. Não fica muito mais simples do que isso. A imagem mostrada acima é um exemplo clássico de uma série temporal, neste caso de umidade coletada a cada 10 minutos com um sensor climático em algum lugar do condado de San Diego."
   ]
  },
  {
   "cell_type": "markdown",
   "metadata": {},
   "source": [
    "#### Séries Temporais Combinadas  com Gráfico de Barras\n",
    "<img src=\"img/climatechange_tweet_freq_count.png\" alt=\"Drawing\" style=\"width: 500px;\"/>\n",
    "\n",
    "Neste tutorial, usamos uma variação no gráfico de barras e na série temporal, combinando-os para criar uma visualização de contagem de frequência temporal, plotando as contagens de frequência de tweet para intervalos de 5 minutos ao longo da vida útil do conjunto de dados e da vida útil de um tweet individual. Isto será mais detalhado na seção sobre visualização de dados do Twitter com Pandas e Matplotlib."
   ]
  },
  {
   "cell_type": "markdown",
   "metadata": {},
   "source": [
    "#### Gráfico de Dispersão (Scatterplot)\n",
    "<img src=\"img/scatter_plot.png\" alt=\"Drawing\" style=\"width: 300px;\"/>\n",
    "\n",
    "Os gráficos de dispersão geralmente consistem em duas ou mais variáveis representadas como pontos em um sistema de coordenadas <span style=\"font-family: 'Courier'\">XY</span>. Os dados podem ou não conter variáveis independentes. Os pontos podem ser coloridos, dimensionados, variando a transparência ou a geometria. Neste tutorial, usamos gráficos de dispersão para visualizar dados de beisebol."
   ]
  },
  {
   "cell_type": "markdown",
   "metadata": {},
   "source": [
    "#### Grades com Gráfico de Dispersão\n",
    "<img src=\"img/scatter_plot_grid.png\" alt=\"Drawing\" style=\"width: 400px;\"/>\n",
    "\n",
    "A grade com gráficos de scatterplot (ou matriz scatterplot) aproveita o 'princípio dos pequenos múltiplos' defendido por *Edward Tufte*. Quando as variáveis se estendem por uma ampla faixa de valores, ou quando uma ou mais variáveis são categóricas, as grades com gráfico de dispersão fornecem ao visualizador uma série de pequenos gráficos de dispersão aos pares que aproveitam os recursos de reconhecimento de padrões do nosso sistema visual para identificar relacionamentos que podem não ser imediatamente aparente a partir de um único gráfico de dispersão. Neste tutorial, usamos grades com gráfico de dispersão para visualizar dados de beisebol."
   ]
  },
  {
   "cell_type": "markdown",
   "metadata": {},
   "source": [
    "#### Mapa de calor\n",
    "<img src=\"img/heat_map.png\" alt=\"Drawing\" style=\"width: 400px;\"/>\n",
    "\n",
    "Um mapa de calor é uma excelente maneira de obter um 'instantâneo' de uma matriz de dados bidimensional. O termo 'calor' neste caso é usado de forma mais geral para se referir a qualquer tipo de variação em uma matriz bidimensional de células em que cada célula pode ser colorida para representar o valor escalar dessa célula. Na verdade, isso agora é um recurso das planilhas do Excel. Neste tutorial, usamos um mapa de calor para visualizar dados de beisebol."
   ]
  },
  {
   "cell_type": "markdown",
   "metadata": {},
   "source": [
    "#### Visualização de grafos/redes\n",
    "<img src=\"img/graph_network.png\" alt=\"Drawing\" style=\"width: 400px;\"/>\n",
    "\n",
    "Redes, ou grafos, são objetos matemáticos que codificam conexões ou relacionamentos entre pares de entidades: as entidades são os nós de um grafo e os relacionamentos são as arestas que conectam esses nós. Muitas operações matemáticas foram definidas para calcular várias propriedades de qualquer rede específica. Em alguns casos, no entanto, também há interesse em visualizar uma rede para entender melhor sua estrutura. A visualização de rede é um problema complexo, com muitas abordagens possíveis. Algumas redes estão fisicamente embutidas em um espaço bi ou tridimensional, onde nós e arestas têm localizações físicas: uma rede de rodovias conectando diferentes cidades é um exemplo, e a rede de energia que envia eletricidade entre diferentes usinas, transformadores, etc. outro. \n",
    "\n",
    "A visualização dessas redes é razoavelmente simples se você tiver informações sobre todas as posições dos nós. Mas muitas redes vivem em algum espaço mais abstrato e de dimensão superior, como uma rede social como o Twitter cujos nós residem no espaço de todos os usuários. As técnicas de visualização de rede que se projetam de um grande número de dimensões para renderizar uma imagem em 2 ou 3 dimensões não são exclusivas e podem ser concebidas para atingir uma variedade de objetivos diferentes. Quando mal feita, a visualização de redes complexas muitas vezes acaba parecendo um \"novelo de lã\" que transmite pouca informação. Bem feito, pode fornecer uma visão intrigante e convincente sobre a estrutura de um sistema complexo. Na próxima parte deste tutorial, apresentamos algumas ferramentas e métodos que implementam os algoritmos matemáticos subjacentes para caracterização de rede, mas também apresentamos algumas visualizações de rede de dados de retuíte no Twitter."
   ]
  },
  {
   "cell_type": "code",
   "execution_count": null,
   "metadata": {},
   "outputs": [],
   "source": []
  }
 ],
 "metadata": {
  "kernelspec": {
   "display_name": "Python 3",
   "language": "python",
   "name": "python3"
  },
  "language_info": {
   "codemirror_mode": {
    "name": "ipython",
    "version": 3
   },
   "file_extension": ".py",
   "mimetype": "text/x-python",
   "name": "python",
   "nbconvert_exporter": "python",
   "pygments_lexer": "ipython3",
   "version": "3.8.10"
  }
 },
 "nbformat": 4,
 "nbformat_minor": 4
}

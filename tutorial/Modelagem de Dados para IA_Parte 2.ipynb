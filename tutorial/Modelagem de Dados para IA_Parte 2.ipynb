{
 "cells": [
  {
   "cell_type": "markdown",
   "metadata": {},
   "source": [
    "# <center>Curso de Modelagem de Dados para IA - PARTE 2</center>\n",
    "\n",
    "<img src=\"img/image.jpg\" alt=\"Drawing\" style=\"width: 300px;\"/>\n",
    "\n",
    "\n",
    "## Tipos de Dados\n",
    "Os dados normalmente se apresentam nas mais diferentes formas, tamanhos e distribuições. Compreender a estrutura de dados com a qual irá se trabalhar facilita bastante a escolha das ferramentas necessárias para fazer esse trabalho."
   ]
  },
  {
   "cell_type": "markdown",
   "metadata": {},
   "source": [
    "### Dados Regulares\n",
    "Os dados científicos geralmente têm estrutura regular e podem ser representados de forma eficiente com matrizes multidimensionais. Exemplos comuns incluem matrizes usadas em álgebra linear, as coordenadas tridimensionais de cada partícula em um sistema (representadas, por exemplo, como uma matriz ***N x 3*** de números de ponto flutuante), um conjunto de dados relativos às medidas de uma variável independente e dependente (representado como uma matriz ***N x 2***), ou um campo contínuo discretizado em voxels em um volume tridimensional (representado como uma matriz ***Nx x Ny x Nz***)."
   ]
  },
  {
   "cell_type": "markdown",
   "metadata": {},
   "source": [
    "### Dados heterogêneos\n",
    "Os conjuntos de dados podem ser heterogêneos de várias maneiras. Alguns conjuntos de dados são agregados de vários subconjuntos de dados (cada um dos quais pode ter uma estrutura mais regular), que estão relacionados entre si de maneira significativa. Alguns representam dados definidos em uma geometria irregular ou complexa, como uma malha não estruturada, uma rede subjacente ou uma amostragem não homogênea de pontos no espaço. Alguns são tabelas de observações regularmente estruturadas, mas onde as variáveis observadas são de tipo ou estrutura diferente. Como resultado, não existe uma estrutura de dados \"tamanho único\" para capturar essa diversidade de estruturas, embora existam tipos de estruturas comumente recorrentes (coleções hierárquicas, malhas, redes, tabelas, etc.) e ferramentas associadas para gerenciá-las. Identificar os tipos de heterogeneidade nos dados e as interações entre seus elementos é um primeiro passo para identificar ferramentas úteis para o processamento de dados."
   ]
  },
  {
   "cell_type": "markdown",
   "metadata": {},
   "source": [
    "### Dados tabulares\n",
    "Uma classe importante de dados heterogêneos, citado acima, são os dados tabulares. São conjuntos de dados bidimensionais do tipo encontrado em planilhas, com um conjunto de linhas e colunas. Os dados em qualquer coluna específica geralmente são do mesmo tipo, mas colunas de tipos diferentes podem ser misturadas em uma tabela de dados. A presença de rótulos de linha e/ou coluna pode permitir várias consultas de dados com base na identidade desses rótulos. Embora, em princípio, uma planilha ou tabela de dados possa ter muito pouca organização ou estrutura, com qualquer tipo de dados em qualquer célula, várias eficiências conceituais e computacionais são obtidas se uma estrutura for imposta. Em particular, uma forma canônica de dados tabulares - conhecidos em alguns casos como dados \"limpos\" - impõe um tipo específico de estrutura que geralmente é útil."
   ]
  },
  {
   "cell_type": "markdown",
   "metadata": {},
   "source": [
    "### Dados Relacionais\n",
    "Dados relacionais podem ser definidos como tipos de dados encontrados em bancos de dados  relacionais, envolvendo uma coleção de tabelas (como nos dados tabulares, acima) que são vinculadas umas às outras por meio de uma ou mais chaves compartilhadas nas tabelas."
   ]
  },
  {
   "cell_type": "markdown",
   "metadata": {},
   "source": [
    "### Dados em Rede\n",
    "Redes (ou grafos) são objetos matemáticos nos quais um conjunto de nós (ou vértices) são conectados por um conjunto de arestas (ou links). Como tal, eles são amplamente úteis na codificação de diferentes tipos de associações entre diferentes entidades, onde as associações são representadas pelas arestas da rede e as entidades são representadas pelos nós. O campo da \"ciência de rede\" surgiu em parte devido à disponibilidade de conjuntos de dados ricos em uma ampla variedade de diferentes tipos de redes (sociais, biológicas, tecnológicas) e em parte porque o exame da estrutura de redes díspares revelou alguns aspectos comuns entre as redes que ajudam a fornecer insights sobre a relação entre estrutura e função."
   ]
  },
  {
   "cell_type": "markdown",
   "metadata": {},
   "source": [
    "### Big Data\n",
    "Uma variedade de tecnologias tornou cada vez mais disponíveis muitos grandes conjuntos de dados, que possuem o potencial para novas e poderosas análises de fenômenos complexos. Os dados podem ser \"grandes\" de várias maneiras, mas uma questão importante é: \"grande em comparação com o quê?\" Os conjuntos de dados podem ser grandes em comparação com o que cabe na memória de uma máquina em que você está executando, o que pode sugerir que você encontre uma máquina maior ou processe os dados em partes menores. Os conjuntos de dados podem ser suficientemente grandes para que movê-los entre diferentes recursos de aquisição, armazenamento e computação imponha uma carga ou atraso substancial. Ou as análises em grandes conjuntos de dados podem levar muito mais tempo do que em conjuntos de dados menores (especialmente se os algoritmos subjacentes que você está usando tiverem tempos de execução que escalam superlinearmente com o tamanho do problema). Nesse caso, convém investigar recursos de computação paralela. Para alguns, \"Big Data\" implica um ecossistema de recursos de algoritmo, software e hardware destinados a facilitar certos tipos de cálculos em grandes conjuntos de dados (por exemplo, MapReduce). Se você estiver trabalhando com dados tabulares, seu conjunto de dados pode ser \"grande\" em termos de número de linhas (por exemplo, o número de registros ou observações), o número de colunas (por exemplo, o número de variáveis ​​por observação) ou ambos . Mas os \"Big Data\" geralmente não são tão grandes quanto parecem: mesmo que estejam embutidos em algum espaço de alta dimensão, os dados geralmente estão em subespaços ou variedades de dimensão inferior que refletem relacionamentos importantes entre elementos e que podem ser identificados com redução de dimensionalidade técnicas."
   ]
  },
  {
   "cell_type": "markdown",
   "metadata": {},
   "source": [
    "### Dados de Imagens\n",
    "Os dados de imagem estão se tornando cada vez mais comuns em aplicativos de ciência de dados. Há uma ampla variedade de formatos de imagem, resoluções e profundidades de cor para se trabalhar. As imagens representam uma classe particular de dados regulares, baseados em um formato \"raster\" de linhas e colunas de pixels, com valores numéricos associados a um ou mais canais (por exemplo, escala de cinza de 8 bits ou RGBA de 32 bits (vermelho, verde, azul , alfa)). Esses valores numéricos subjacentes (geralmente representados com matrizes) permitem uma variedade de tarefas de processamento de imagem, como detecção de bordas, desfoque, reconhecimento de padrões, compactação, redução de ruído, segmentação, diferenciação, histogramas e muito mais. Existem muitas bibliotecas de processamento de imagem para suportar esses tipos de operações padrão, mas o acesso às representações numéricas de nível inferior também permite a construção de algoritmos e pipelines de processamento de imagem personalizados."
   ]
  },
  {
   "cell_type": "markdown",
   "metadata": {},
   "source": [
    "### Dados Textuais\n",
    "Tradicionalmente, o texto serviu como um canal importante para metadados (ou seja, descrevendo os dados primários de interesse), mas a disponibilidade de texto de muitas fontes tornou cada vez mais o texto uma fonte de dados primária por conta própria. Isso inclui dados textuais obtidos a partir de livros, artigos científicos, artigos de notícias, mídias sociais, arquivos históricos, documentos governamentais e de ONGs, etc. O Processamento de Linguagem Natural (NLP) foi desenvolvido para dar suporte a esse trabalho."
   ]
  },
  {
   "cell_type": "markdown",
   "metadata": {},
   "source": [
    "### Dados de streaming\n",
    "O streaming de dados é mais uma referência ao estado em que os dados estão sendo gerenciados. Os dados de streaming podem estar em várias formas, como texto, números, imagens, etc. Os dados do Twitter são um exemplo de dados de streaming e podem ser acessados com a API de streaming do Twitter. Os dados climáticos geralmente são transmitidos ao vivo de redes de sensores climáticos distribuídos em todo o mundo. Muitas vezes, os dados de streaming são tão volumosos que são processados e filtrados antes de serem salvos e os dados originais serem descartados."
   ]
  },
  {
   "cell_type": "markdown",
   "metadata": {},
   "source": [
    "### Dados Hierárquicos e Agregados\n",
    "Estruturas de dados e formatos de dados complexos geralmente agregam muitas informações relacionadas e geralmente são organizados hierarquicamente, com subconjuntos de dados aninhados em níveis mais altos. Uma variedade de formatos oferece suporte a esses tipos de descrições de dados. Os formatos JSON ou XML são exemplos amplamente usados, indo muito além do uso apenas em ciência de dados e computação científica. Não compactados, esses formatos de texto usam mais memória, mas oferecem a vantagem de estar em conformidade com um formato definido que suporta padronização e acesso a diferentes ferramentas de análise. Mais direcionados para grandes conjuntos de dados científicos são HDF5 e NetCDF, dois formatos de dados (e bibliotecas associadas) que suportam a agregação hierárquica de dados orientados por array."
   ]
  },
  {
   "cell_type": "markdown",
   "metadata": {},
   "source": [
    "## Arrays, Dataframes e Series\n",
    "Dados estruturados são abundantes em ciência de dados e outras disciplinas científicas, especialmente na forma de dados regulares bem representados por matrizes homogêneas e dados tabulares que podem conter diferentes tipos de dados em cada coluna. Dois pacotes fundamentais para lidar com isso são <a href=\"http://numpy.org/\">NumPy</a> e <a href=\"https://pandas.pydata.org/\">Pandas</a>. Serão apresentados a seguir os principais objetos e estruturas de dados fornecidos nesses pacotes, que serão detalhados ao longo deste tutorial."
   ]
  },
  {
   "cell_type": "markdown",
   "metadata": {},
   "source": [
    "### Arrays no pacote NumPy\n",
    "O suporte para dados em formato de matriz multidimensional é fornecido há muito tempo pelo NumPy, essencial no ecossistema Python para computação científica. Os arrays em NumPy compartilham alguns recursos com as listas do Python, pois suportam indexação e fatiamento por posição em um array ou lista (embora em dimensões maiores para arrays multidimensionais). Enquanto as listas podem conter objetos de diferentes tipos, um determinado array NumPy é homogêneo em tipo (definido por seu chamado *dtype*).\n",
    "\n",
    "Compreender a anatomia de uma matriz multidimensional, em particular a forma e os eixos de uma matriz, conforme ilustrado abaixo, é útil para trabalhar com esses tipos de dados, bem como com dataframes Pandas. Matrizes são estruturas computacionais eficientes, em grande parte porque podem ser operadas em alto nível, usando operações em nível de matriz, em vez de ter que fazer um loop explícito sobre seus elementos e agir sobre eles um de cada vez em Python."
   ]
  },
  {
   "cell_type": "markdown",
   "metadata": {},
   "source": [
    "<img src=\"img/arrays.png\" alt=\"Drawing\" style=\"width: 1000px;\"/>"
   ]
  },
  {
   "cell_type": "markdown",
   "metadata": {},
   "source": [
    "### Indexação e fatiamento de arrays\n",
    "As matrizes são indexadas e divididas por índices posicionais, entre colchetes, estendendo as noções suportadas pelas listas Python para várias dimensões. Índices posicionais são de deslocamento zero, ou seja, o primeiro elemento de uma matriz está na posição 0. Muitas variantes de indexação e fatiamento de matrizes são descritas na <a href=\"https://docs.scipy.org/doc/numpy/reference/arrays.indexing.html\">documentação do NumPy</a>, incluindo indexação básica e avançada. Os trechos de código a seguir mostram apenas alguns exemplos do tipo de indexação e fatiamento disponível com matrizes NumPy."
   ]
  },
  {
   "cell_type": "code",
   "execution_count": null,
   "metadata": {},
   "outputs": [],
   "source": [
    "import numpy as np\n",
    "x = np.random.random((3,4,5)) # x is a uniform random 3D array with shape=(3,4,5)\n",
    "x[0,1,2] # extract element from x at position (0,1,2)\n",
    "x[0] # extract row (axis=0) at position 0, yields 2D array of shape (4,5)\n",
    "x[:,2] # extract column (axis=1) at position 2, yields 2D array of shape (3,5)\n",
    "x[0:2,1:3,3:5] # extract 2x2x2 subarray with specified slices along each index"
   ]
  },
  {
   "cell_type": "markdown",
   "metadata": {},
   "source": [
    "### DataFrames e Séries em Pandas\n",
    "Pandas é uma biblioteca Python central para ciência de dados, especialmente útil para lidar com dados tabulares do tipo que se pode encontrar em uma planilha ou um arquivo formatado em ***csv***. Devido à sua ampla aplicabilidade, grande parte do material apresentado neste tutorial usa Pandas e suas estruturas de dados associadas. O Pandas baseia-se em muitos dos conceitos importantes introduzidos com o NumPy (e, de fato, usa o NumPy nos bastidores para muitas de suas operações) e define duas novas classes importantes de objetos: ***DataFrames*** e ***Series***, que vinculam dados de tabela com informações de identificação, como nomes de linhas e colunas. As séries são semelhantes aos arrays NumPy unidimensionais, com um único *dtype*, embora com um índice adicional (lista de rótulos de linha). DataFrames são uma sequência ordenada de Series, compartilhando o mesmo índice, com colunas rotuladas. Isso é representado na figura abaixo, mostrando vários atributos de um dataframe (df) e observando o uso de conceitos NumPy, como axis e dtype. Cada coluna do dataframe, se dividida por conta própria, corresponde a uma série com seu dtype associado"
   ]
  },
  {
   "cell_type": "markdown",
   "metadata": {},
   "source": [
    "<img src=\"img/AnatomyDataFrame.png\" alt=\"Drawing\" style=\"width: 500px;\"/>"
   ]
  },
  {
   "cell_type": "markdown",
   "metadata": {},
   "source": [
    "### Indexação e fatiamento de DataFrames e Series\n",
    "A indexação e o fatiamento de Pandas DataFrames e Series, embora semelhantes em espírito ao NumPy, são diferentes em vários detalhes, conforme discutido abaixo. Mais informações sobre a indexação do Pandas podem ser encontradas <a href=\"https://pandas.pydata.org/pandas-docs/stable/user_guide/indexing.html#indexing-label\">aqui</a>.\n",
    "- Existem vários mecanismos para indexar ou dividir o conteúdo de um DataFrame ou Série: ***[ ]***, ***loc*** e ***iloc***. Para *[ ]* e *loc*, a indexação e o fatiamento são baseados em rótulos (ou seja, rótulos de índice e coluna). Para *iloc*, a indexação e o fatiamento são baseados na posição.\n",
    "\n",
    "- A indexação baseada em colchetes é baseada em colunas para DataFrames e baseada em linhas para Series. Para um dataframe **df**, **df[colname]** seleciona a coluna com o nome colname. Várias colunas podem ser selecionadas com uma lista de nomes de coluna, por exemplo, **df[[colname1, colname2]]**.\n",
    "\n",
    "- A indexação usando loc permite o acesso por meio de rótulos de linha e coluna, usando uma notação semelhante à do NumPy. Para um dataframe **df**, **df.loc[rowname, colname]** seleciona o item na linha rowname e na coluna colname. **df.loc[rowname]** seleciona todas as colunas na linha rowname e é equivalente a **df.loc[rowname, :]**\n",
    "\n",
    "- O corte por rótulos de linha ou coluna usando *loc* é inclusivo nos rótulos inicial e final (diferente do NumPy, onde o corte para uma posição antes do argumento stop) e respeita a ordem dos rótulos de linha e coluna no índice e nas colunas, respectivamente. Para um dataframe *df* com colunas ['a', 'b', 'c', 'd', 'e'], então **df.loc[:, 'a':'c']** retornará o subframe que consiste em todos linhas e as colunas 'a', 'b', 'c'.\n",
    "\n",
    "- Fatiar por posições de linha ou coluna usando iloc é inclusivo no início, mas exclusivo na posição de parada (como em NumPy e para listas Python)."
   ]
  },
  {
   "cell_type": "code",
   "execution_count": null,
   "metadata": {},
   "outputs": [],
   "source": []
  }
 ],
 "metadata": {
  "kernelspec": {
   "display_name": "Python 3",
   "language": "python",
   "name": "python3"
  },
  "language_info": {
   "codemirror_mode": {
    "name": "ipython",
    "version": 3
   },
   "file_extension": ".py",
   "mimetype": "text/x-python",
   "name": "python",
   "nbconvert_exporter": "python",
   "pygments_lexer": "ipython3",
   "version": "3.7.6"
  }
 },
 "nbformat": 4,
 "nbformat_minor": 4
}

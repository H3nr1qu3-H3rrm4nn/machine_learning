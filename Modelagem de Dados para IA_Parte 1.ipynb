{
 "cells": [
  {
   "cell_type": "markdown",
   "metadata": {},
   "source": [
    "# <center>Curso de Modelagem de Dados para IA - PARTE 1</center>\n",
    "\n",
    "<img src=\"image.jpg\" alt=\"Drawing\" style=\"width: 300px;\"/>\n",
    "\n",
    "\n",
    "## Introdução\n",
    "Este tutorial tem como objetivo introduzir as técnicas e ferramentas para a manipulação e posterior modelagem de diferentes fontes de dados para uso em tarefas e modelos de Aprendizado de Máquina. No decorrer do mesmo serão disponibilizados links para informações mais detalhadas que poderão ser obtidas em outros sites, juntamente com alguns exemplos concretos de como essas ferramentas podem ser usadas em vários aplicativos de ciência de dados.\n",
    "\n",
    "Com a disponibilidade de um número cada vez maior de conjuntos de dados de alta escala e com vários níveis de detalhes nas mais diferentes áreas como ciências físicas, biológicas, tecnológicas e humanas deu-se origem a um grande interesse em **Ciência de Dados**, uma seara de ferramentas e técnicas da ciência computacional, estatística, aprendizado de máquina e outros campos, com o objetivo de entender conjuntos de dados complexos e construir modelos preditivos a partir desses dados.\n",
    "\n",
    "A linguagem de programação a ser adotada nos exemplos será Python, que surgiu como uma das tecnologias críticas de apoio à ciência de dados, tanto porque sua sintaxe expressiva permite o desenvolvimento rápido de algoritmos complexos e pipelines de análise de dados, quanto pela grande comunidade de usuários que contribuíram para um rico ecossistema de ferramentas e bibliotecas para facilitar os fluxos de trabalho de pesquisa e produção em ciência de dados. Muitas bibliotecas diferentes são integradas ao ecossistema Python para ciência de dados, suportando acesso e manipulação de dados, modelagem numérica, operações estatísticas, aprendizado de máquina e visualização de dados.\n"
   ]
  },
  {
   "cell_type": "markdown",
   "metadata": {},
   "source": [
    "Nesta Parte 1, será abordado:\n",
    "\n",
    "- Identificação da estrutura dos dados\n",
    "- Limpeza, filtragem, reorganização, imputação, aumento e agregação dos dados\n",
    "- Visualização de dados\n",
    "- Análise, estatísticas e modelagem\n",
    "- Uso de técnicas de Aprendizado de máquina\n",
    "- Montagem de pipelines de processamento de dados para vincular essas etapas"
   ]
  },
  {
   "cell_type": "markdown",
   "metadata": {},
   "source": [
    "## Python\n",
    "<img src=\"python.png\" alt=\"Drawing\" style=\"width: 300px;\"/>\n",
    "\n",
    "\n",
    "Em sua essência, Python é uma linguagem de programação com uma sintaxe e especificação definidas. Python é uma linguagem de uso geral, o que significa que ela foi desenvolvida para oferecer suporte a um amplo espectro de aplicações, não apenas aquelas em ciência de dados ou áreas relacionadas à computação estatística e numérica. Python é interpretado, permitindo a prototipagem rápida de algoritmos para compreensão de conjuntos de dados, facilitada por meio de uma sintaxe expressiva e uma variedade de tipos de dados integrados de alto nível. E o Python também é orientado a objetos, fornecendo suporte para definir novos tipos de dados e comportamentos associados; como tal, é útil para capturar abstrações úteis necessárias em aplicações científicas e numéricas complexas.\n",
    "\n",
    "Python também oferece suporte para definir bibliotecas externas que podem ser importadas e chamadas de dentro de programas Python existentes, incluindo bibliotecas escritas em outras linguagens de programação. Grande parte do poder do Python para domínios de aplicativos específicos, como ciência de dados, vem dessas bibliotecas externas de terceiros, que aproveitam a experiência de desenvolvedores de diversas áreas. Bibliotecas externas escritas em linguagens compiladas como C/C++ e Fortran permitem kernels computacionais numericamente eficientes que podem ser acessados de dentro do interpretador python, fornecendo controle em alto nível e desempenho no nível mais baixo. A comunidade de computação científica foi uma das primeiras e maiores entusiastas adeptas do Python, o que impulsionou o desenvolvimento de uma ampla gama de ferramentas e pacotes para dar suporte à computação numérica e à ciência de dados.\n",
    "\n",
    "Os principais pacotes e ferramentas do Python para uso em ciência de dados estão listados neste tutorial logo abaixo. Informações sobre a instalação e configuração de distribuições do Python, muitas das quais são voltadas para ciência de dados e vêm com esses pacotes pré-instalados, são fornecidas também abaixo na seção Distribuições do Python."
   ]
  },
  {
   "cell_type": "markdown",
   "metadata": {},
   "source": [
    "### Instalações e Distribuições Python\n",
    "Python é instalada por padrão em muitas distribuições de SOs e é usada para muitas atividades de administração de sistemas. Portanto, geralmente é aconselhável deixar a instalação padrão do Python **em paz**, especialmente porque essa versão padrão pode não ser atualizada com a frequência que os usuários desejam. Felizmente, várias instalações do Python podem coexistir em um único sistema, pois cada instalação pode acompanhar quais bibliotecas estão instaladas para uso com essa versão. Com uma instalação alternativa do Python, você pode configurar o sistema com bibliotecas adicionais necessárias para dar suporte à sua pesquisa.\n",
    "\n",
    "A funcionalidade mais específica adaptada para computação numérica e ciência de dados é codificada em bibliotecas de terceiros. O número e a funcionalidade dos pacotes disponíveis para ciência de dados em Python continuam crescendo a uma taxa impressionante. A desvantagem disso são as possíveis dores de cabeça associadas à instalação de pacotes adicionais e ao gerenciamento de dependências entre eles. Felizmente, várias ferramentas e utilitários foram desenvolvidos para auxiliar nesse tipo de gerenciamento de pacotes.\n",
    "\n",
    "Melhor ainda, várias distribuições Python disponíveis gratuitamente estão disponíveis e agrupam a maioria, se não todos, os pacotes que podem ser necessários para realizar alguma computação científica e análise de interesse. Isso inclui distribuições Python produzidas pela <a href=\"https://www.anaconda.com/products/individual\">Anaconda</a>, <a href=\"https://www.activestate.com/products/python/\">Active State</a> e <a href=\"https://www.intel.com/content/www/us/en/developer/tools/oneapi/distribution-for-python.html\">Intel</a>. Além de fornecer suporte conveniente para instalação do ecosistema de computação científica Python, muitas dessas distribuições são vinculadas a bibliotecas numéricas altamente otimizadas, como a <font color=blue>Intel MKL (Math Kernel Library)</font>. Portanto, se você deseja instalar seu próprio ecossistema, comece com uma dessas distribuições ao invés de criar um ambiente de deenvolvimento python e bibliotecas associadas do zero."
   ]
  },
  {
   "cell_type": "markdown",
   "metadata": {},
   "source": [
    "#### sys.path\n",
    "Qualquer instalação do Python saberá onde suas bibliotecas padrão e de terceiros associadas estão instaladas e adicionará esses locais à variável sys.path que o interpretador do Python consulta ao procurar módulos para importar. sys.path pode conter uma mistura de diretórios que armazenam bibliotecas Python destinadas a todos os usuários do sistema e bibliotecas específicas do usuário (normalmente armazenadas no próprio espaço de diretório do usuário). A biblioteca padrão do Python é normalmente armazenada em ***\\\\${PREFIX}/lib/pythonX.Y***, onde ***\\\\${PREFIX}\\\\$*** se refere à raiz da instalação do Python e ***X.Y*** se refere aos números de versão principal e secundária da instalação. Bibliotecas de terceiros destinadas a todos os usuários do sistema são normalmente instaladas em ***\\\\${PREFIX}/lib/pythonX.Y/site-packages***. Algumas instalações fornecem um diretório local padrão para bibliotecas específicas do usuário, mas os usuários sempre podem definir uma variável de ambiente *PYTHONPATH* que especifica uma lista de diretórios adicionais que são adicionados a *sys.path*."
   ]
  },
  {
   "cell_type": "markdown",
   "metadata": {},
   "source": [
    "#### pip e conda\n",
    "<img src=\"pip.png\" alt=\"Drawing\" style=\"width: 100px;\"/>\n",
    "<img src=\"conda.png\" alt=\"Drawing\" style=\"width: 100px;\"/>\n",
    "\n",
    "\n",
    "pip é uma ferramenta para instalar pacotes Python adicionais que não fazem parte da instalação que está sendo usada. Dentro da distribuição Anaconda Python, a ferramenta *conda* funciona como a principal ferramenta de gerenciamento de pacotes, embora o Anaconda também forneça uma versão do *pip* para instalar pacotes que não fazem parte do ecossistema Anaconda. Com permissões suficientes, *pip* e *conda* normalmente serão instalados em ***\\\\${PREFIX}/lib/pythonX.Y/site-packages***; mas sem essas permissões, os usuários podem instalar em seu espaço de diretório local (em ***\\\\$HOME/.local***) com um comando como *pip install newpackage --user*, onde *newpackage* é o nome de um novo pacote que se deseja instalar. O <a href=\"https://pypi.org/\">Python Package Index</a> é um repositório centralizado de software desenvolvido e compartilhado pela comunidade Python, e é aqui que o *pip* procura pacotes por padrão."
   ]
  },
  {
   "cell_type": "markdown",
   "metadata": {},
   "source": [
    "\n",
    "#### setup.py\n",
    "Pacotes não instaláveis via *pip* podem fornecer suporte para instalação por meio de um arquivo chamado *setup.py* no diretório do pacote. Comandos típicos para construir e instalar um pacote via setup.py podem se parecer com:\n",
    "\n",
    "<div class=\"alert alert-block alert-info\">\n",
    "<span style=\"font-family:Courier\">\n",
    "    # first, cd to package directory<br>\n",
    "    python setup.py build<br>\n",
    "    python setup.py install --user                 # install to \\\\$HOME/.local<br>\n",
    "</span>\n",
    "</div>\n",
    "\n",
    "<div class=\"alert alert-block alert-info\">\n",
    "<span style=\"font-family:Courier\">\n",
    "    # or, alternatively, install to a custom location<br>\n",
    "    # first, cd to package directory<br>\n",
    "    python setup.py build<br>\n",
    "    python setup.py install --prefix=$INSTALLDIR   # custom location; add to PYTHONPATH<br>\n",
    "</span>\n",
    "</div>\n",
    "\n",
    "Existem vários pacotes disponíveis que coordenam a configuração e compilação de outros pacotes Python. O padrão antigo é o *distutils*, que está incluído na biblioteca padrão do Python e é usado secretamente pelo *setup.py* em uma ampla variedade de pacotes legados. Um padrão mais recente é o *setuptools*, no qual o *pip* normalmente depende para a configuração do pacote. Ambos *distutils* e *setuptools* fornecem suporte, por exemplo, para especificar diferentes opções de compilador e vinculador, se necessário."
   ]
  },
  {
   "cell_type": "markdown",
   "metadata": {},
   "source": [
    "#### virtualenv\n",
    "Embora várias instalações do Python possam coexistir alegremente em um único sistema, essa felicidade pode começar a se dissolver se houver outras dependências que precisam ser mantidas separadas. Por exemplo, as versões dos pacotes que você instalou em ***\\\\$HOME/.local*** podem entrar em conflito, ou você pode precisar manter várias versões simultaneamente para recriar e/ou comparar os resultados produzidos por diferentes versões. O pacote <a href=\"https://pypi.python.org/pypi/virtualenv\">virtualenv</a> pode ajudar com esses problemas criando um ou mais ambientes Python locais em seu diretório inicial para instalar os pacotes necessários. Então, se você executar um trabalho em lote, por exemplo, o script em lote pode escolher as versões de pacotes que deseja usando virtualenv. Você pode até mesmo transferir seus ambientes virtualenv ou compartilhá-los com colegas. A qualquer momento, um ambiente virtual estará ativo (mas essa versão pode ser desativada a qualquer momento, com outro ativo).\n",
    "\n",
    "Ao instalar novos pacotes, os pacotes instalados irão para qualquer diretório virtualenv que tenha sido ativado, em vez de tentar instalar em um local típico em ***\\\\$HOME/.local***. Mais tarde, se você quiser compartilhar o ambiente virtual e seus pacotes, basta copiar a árvore de diretórios para o diretório pessoal de outra pessoa."
   ]
  },
  {
   "cell_type": "markdown",
   "metadata": {},
   "source": [
    "## Pacotes essenciais para Ciência de Dados"
   ]
  },
  {
   "cell_type": "markdown",
   "metadata": {},
   "source": [
    "Existem várias bibliotecas importantes no ecossistema Python para ciência de dados. As bibliotecas que destacamos neste tutorial são NumPy, Pandas, NetworkX, sqlalchemy, matplotlib, seaborn, bokeh, SciPy, statsmodels e Scikit-learn.\n",
    "\n",
    "### Fundamentos\n",
    "- **<a href=\"https://www.python.org/\">python.org</a>**: site principal do Python\n",
    "- **<a href=\"https://docs.python.org/3/\">Documentação do Python</a>**\n",
    "- **<a href=\"https://pypi.org/\">Python Package Index (PyPI)</a>**: repositório de pacotes\n",
    "\n",
    "### Distribuições Python \"Baterias Incluídas\"\n",
    "- **<a href=\"https://www.anaconda.com/distribution/\">Anaconda</a>**\n",
    "- **<a href=\"https://www.enthought.com/enthought-deployment-manager/\">Enthought</a>**\n",
    "- **<a href=\"https://www.activestate.com/activepython\">Active State</a>**\n",
    "- **<a href=\"https://software.intel.com/en-us/distribution-for-python\">Intel</a>**\n",
    "\n",
    "### Estruturas de dados e algoritmos\n",
    "- **<a href=\"https://docs.python.org/3/library/\">A biblioteca padrão do Python</a>** (selecione a versão específica nessa página)\n",
    "- **<a href=\"https://www.numpy.org/\">NumPy</a>**: arrays multidimensionais, operações matemáticas em nível de array, álgebra linear, números aleatórios, etc.\n",
    "- **<a href=\"https://www.scipy.org/\">SciPy</a>**: um ecossistema baseado em Python de software de código aberto para matemática, ciências e engenharia\n",
    "- **<a href=\"https://pandas.pydata.org/\">Pandas</a>**: dataframes e séries para representar dados tabulares e um rico conjunto de operações para analisar esses dados\n",
    "- **<a href=\"https://www.h5py.org/\">H5py</a>**: suporte para arquivos de dados formatados em HDF5\n",
    "- **<a href=\"https://dask.org/\">Dask</a>**: arrays e dataframes distribuídos, agendamento de fluxos de trabalho distribuídos\n",
    "- **<a href=\"https://www.sympy.org/en/index.html\">Sympy</a>**: matemática simbólica\n",
    "- **<a href=\"https://networkx.github.io/\">NetworkX</a>**: criação, manipulação e estudo da estrutura, dinâmica e funções de redes complexas\n",
    "- **<a href=\"https://igraph.org/\">igraph</a>**: uma biblioteca de análise de rede, escrita em C++, com front-ends em Python, R, Mathematica\n",
    "\n",
    "### Intérpretes, Notebooks e Ambientes de Desenvolvimento\n",
    "- **<a href=\"https://ipython.org/\">IPython</a>**: poderoso shell interativo do Python\n",
    "- **<a href=\"https://jupyter.org/\">Jupyter</a>**: notebooks interativos integrando código, resultados, gráficos e documentação\n",
    "- **<a href=\"https://www.spyder-ide.org/\">Spyder</a>**: ambiente de desenvolvimento integrado (IDE) combinando edição, análise, depuração e funcionalidade de criação de perfil\n",
    "\n",
    "### Visualização de dados\n",
    "- **<a href=\"https://matplotlib.org/\">Matplotlib</a>**: biblioteca de plotagem 2D que torna as coisas fáceis fáceis e as difíceis possíveis\n",
    "- **<a href=\"https://seaborn.pydata.org/\">Seaborn</a>**: biblioteca de visualização de dados baseada em matplotlib, fornecendo uma interface de alto nível para gráficos estatísticos informativos\n",
    "- **<a href=\"https://bokeh.pydata.org/en/latest/\">Bokeh</a>**: biblioteca de visualização interativa que visa navegadores modernos para apresentação\n",
    "\n",
    "### Bancos de dados relacionais\n",
    "- **<a href=\"https://www.sqlalchemy.org/\">sqlalchemy</a>**: Python SQL toolkit e Object Relational Mapper, fornecendo acesso a bancos de dados SQL\n",
    "- **<a href=\"https://docs.python.org/3/library/sqlite3.html#module-sqlite3\">sqlite3</a>**: interface Python para SQLite, uma biblioteca C que fornece um banco de dados SQL baseado em disco leve\n",
    "\n",
    "### Computação Científica e Estatística\n",
    "- **<a href=\"https://www.statsmodels.org/stable/index.html\">Statsmodels</a>**: classes e funções para a estimação de modelos estatísticos, realização de testes estatísticos e exploração de dados estatísticos\n",
    "- **<a href=\"https://www.scipy.org/scikits.html\">Scikits</a>**: pacotes complementares para SciPy, hospedados e desenvolvidos separadamente e independentemente da distribuição principal do SciPy\n",
    "\n",
    "### Aprendizado de máquina\n",
    "- **<a href=\"https://scikit-learn.org/stable/\">Scikit-learn</a>**: muitos métodos diferentes de aprendizado de máquina em Python\n",
    "- **<a href=\"https://www.tensorflow.org/\">Tensorflow</a>**: Deep Learning in Python (uma plataforma de código aberto de ponta a ponta para aprendizado de máquina)\n",
    "- **<a href=\"https://caffe.berkeleyvision.org/\">Caffe</a>**: framework de aprendizado profundo feito com expressão, velocidade e modularidade em mente\n",
    "- **<a href=\"https://pytorch.org/\">PyTorch</a>**: estrutura de aprendizado de máquina de código aberto que acelera o caminho da prototipagem de pesquisa à implantação de produção\n",
    "- **<a href=\"https://keras.io/\">Keras</a>**: API de redes neurais de alto nível, escrita em Python e capaz de rodar sobre TensorFlow, CNTK ou Theano\n",
    "\n",
    "### Processamento de imagem\n",
    "- **<a href=\"https://scikit-image.org/\">Scikit-image</a>**: coleção de algoritmos para processamento de imagens\n",
    "- **<a href=\"https://pillow.readthedocs.io/en/stable/\">Pillow</a>**: um fork do PIL, uma biblioteca para manipulação de imagens do Python\n",
    "\n",
    "### Processamento de linguagem natural\n",
    "- **<a href=\"https://www.nltk.org/\">Natural Language Toolkit (NLTK)</a>**: plataforma para construir programas Python para trabalhar com dados de linguagem humana\n",
    "- **<a href=\"https://spacy.io/\">Spacy</a>**: processamento de linguagem natural de força industrial em Python\n",
    "- **<a href=\"https://textblob.readthedocs.io/en/dev/\">Textblob</a>**: biblioteca Python para processamento de dados textuais\n",
    "- **<a href=\"https://pypi.org/project/python-Levenshtein/\">python-Levenshtein</a>**: para calcular semelhanças de strings e editar distâncias\n",
    "\n",
    "### APIs específicas do aplicativo\n",
    "- **<a href=\"https://www.tweepy.org/\">Tweepy</a>**: biblioteca Python para acessar a API do Twitter\n",
    "\n",
    "### Sistemas para Big Data\n",
    "- **<a href=\"https://spark.apache.org/docs/latest/api/python/index.html\">PySpark</a>**: interface Python para o modelo de programação Spark"
   ]
  },
  {
   "cell_type": "code",
   "execution_count": null,
   "metadata": {},
   "outputs": [],
   "source": []
  }
 ],
 "metadata": {
  "kernelspec": {
   "display_name": "Python 3",
   "language": "python",
   "name": "python3"
  },
  "language_info": {
   "codemirror_mode": {
    "name": "ipython",
    "version": 3
   },
   "file_extension": ".py",
   "mimetype": "text/x-python",
   "name": "python",
   "nbconvert_exporter": "python",
   "pygments_lexer": "ipython3",
   "version": "3.8.10"
  }
 },
 "nbformat": 4,
 "nbformat_minor": 4
}
